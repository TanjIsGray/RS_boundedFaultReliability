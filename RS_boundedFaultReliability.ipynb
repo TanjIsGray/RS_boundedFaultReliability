{
 "cells": [
  {
   "cell_type": "code",
   "execution_count": 1,
   "id": "aaa3aa9a-9544-484d-b651-17336eb5dbfb",
   "metadata": {},
   "outputs": [],
   "source": [
    "# An investigation of Reed Solomon reliability for the bounded-fault scenario\n",
    "# Tanj Bennett, copyright (c) 2023, Avant-Gray LLC\n",
    "# Usage rights granted under terms of the MIT open-source license.\n",
    "\n",
    "# using the very nice work of Tomer Fileba, whose work remains separate\n",
    "# at https://github.com/tomerfiliba-org/reedsolomon/blob/master/src/reedsolo/reedsolo.py\n",
    "\n",
    "# uncomment the following line once to install that library\n",
    "# pip install --upgrade reedsolo\n",
    "# pip install --upgrade numpy"
   ]
  },
  {
   "cell_type": "code",
   "execution_count": 2,
   "id": "c544962c-4bfc-4df1-9bf4-48e683dce884",
   "metadata": {},
   "outputs": [
    {
     "data": {
      "text/plain": [
       "<reedsolo.RSCodec at 0x261e12f6ba0>"
      ]
     },
     "execution_count": 2,
     "metadata": {},
     "output_type": "execute_result"
    }
   ],
   "source": [
    "# import and verify the import succeeded.\n",
    "\n",
    "from reedsolo import RSCodec, ReedSolomonError\n",
    "rsc = RSCodec(4)  # 4 ecc symbols.\n",
    "rsc"
   ]
  },
  {
   "cell_type": "code",
   "execution_count": 3,
   "id": "32928358-2016-451b-8b72-a7794ede1dc9",
   "metadata": {},
   "outputs": [],
   "source": [
    "# import and verify random number generation.  Nothing fancy is needed, just ensure it is present.\n",
    "\n",
    "import random\n",
    "import numpy"
   ]
  },
  {
   "cell_type": "markdown",
   "id": "7443d693",
   "metadata": {},
   "source": [
    "The encode operation will be used to take a 32-byte data set (held as a byte array) and then calculate 4 extra check symbols which are appended to the 36-byte stored form.  These 4 extra symbols are also bytes.  The Reed-Solomon (36,32) algorithm has the capability to use the 4 extra symbols to locate up to 2 errors in any of the 36 bytes and to calculate a correction for them.\n",
    "\n",
    "If we know where the errors are then the 4 extra symbols can be used to correct up to 4 errors (these known locations are known as \"erasures\").  This does not help us for the DRAM case, since we rarely know where the errors are and it is unsafe to use that mode.  One of the sections of this code demonstrates use of erasure information.\n",
    "\n",
    "The article \"https://en.wikiversity.org/wiki/Reed%E2%80%93Solomon_codes_for_coders\" is recommended as a very approachable and lucid explanation of Reed Solomon.  If you enjoyed math at the high school level you can read that article, just be prepared to be patient and methodical in working through it."
   ]
  },
  {
   "cell_type": "code",
   "execution_count": 5,
   "id": "014a7203-18b3-45b8-b705-1c01cc651dbc",
   "metadata": {},
   "outputs": [
    {
     "data": {
      "text/plain": [
       "(64,\n",
       " bytearray(b'\\xb8.@\\xd2\\x8bO\\xdc\\xad\\xdfE`\\xf2\\x92\\xa8\\xde\\xdc\\xf1G!\\xac9\\x13\\x1d\\xc9\\xb1d\\x1a\\x97\\xdf{\\xf9o\\x96P\\x01\\x1b1\\t\\x05tf\\x9c\\xa0>\\xe6-\\xc3\\xa8\\x85Wr\\xfc2\\\\q\\x89\\xc2\\xc8\\x1c1T(vK'),\n",
       " 68,\n",
       " bytearray(b'\\xb8.@\\xd2\\x8bO\\xdc\\xad\\xdfE`\\xf2\\x92\\xa8\\xde\\xdc\\xf1G!\\xac9\\x13\\x1d\\xc9\\xb1d\\x1a\\x97\\xdf{\\xf9o\\x96P\\x01\\x1b1\\t\\x05tf\\x9c\\xa0>\\xe6-\\xc3\\xa8\\x85Wr\\xfc2\\\\q\\x89\\xc2\\xc8\\x1c1T(vK\\x8d\\x89\\xbfh'))"
      ]
     },
     "execution_count": 5,
     "metadata": {},
     "output_type": "execute_result"
    }
   ],
   "source": [
    "# Encoding\n",
    "# just a list of numbers/symbols:\n",
    "N = 32\n",
    "x = bytearray(N)\n",
    "for i in range(0,N) :\n",
    "    x[i] = random.randint(0,255)\n",
    "\n",
    "y = rsc.encode(x)\n",
    "\n",
    "# used with N data bytes and 4 check symbols, this supports 256 bit data using RS(N+4,N)\n",
    "len(x), x, len(y), y"
   ]
  },
  {
   "cell_type": "markdown",
   "id": "128cde5a",
   "metadata": {},
   "source": [
    "The decode operation returns a 3-tuple, the [0] part of it is the corrected data.\n",
    "The [1] part is the full data with check symbols, and the [2] part is the byte indexes of the corrections.\n",
    "The decode operation will throw an exception if if detects a failure to deliver correct data."
   ]
  },
  {
   "cell_type": "code",
   "execution_count": null,
   "id": "c57861f5",
   "metadata": {},
   "outputs": [],
   "source": [
    "z = rsc.decode(y)\n",
    "x, z, x == z[0]"
   ]
  },
  {
   "cell_type": "markdown",
   "id": "b72d0410",
   "metadata": {},
   "source": [
    " If we try to correct a bounded error (just 2 symbols aligned on a two-DQ boundary) then RS(N+4,N) should fix them all.  We count the attempts which raised no exception, and we verify the results claiming to deliver good data."
   ]
  },
  {
   "cell_type": "code",
   "execution_count": 6,
   "id": "7525904c-30ad-4aa6-852a-afb86cdd3d97",
   "metadata": {},
   "outputs": [
    {
     "data": {
      "text/plain": [
       "(9999, 0, 0)"
      ]
     },
     "execution_count": 6,
     "metadata": {},
     "output_type": "execute_result"
    }
   ],
   "source": [
    "detections = 0\n",
    "silentFaults = 0\n",
    "\n",
    "# model 2-byte contiguous faults, so just half the positions\n",
    "# the last bounded fault includes the check bytes\n",
    "lastBound = int((N/2) + 1)\n",
    "\n",
    "for trials in range (0,10000):\n",
    "    # keep permuting the data to ensure we see impact from both the data and the errors\n",
    "    for i in range(0,N) :\n",
    "        x[i] = random.randint(0,255)\n",
    "\n",
    "    y = rsc.encode(x)\n",
    "\n",
    "    i = 2 * random.randint(0,lastBound)\n",
    "    y[i] ^= random.randint(1,255)\n",
    "    y[i+1] ^= random.randint(1,255)\n",
    "\n",
    "    try:\n",
    "        z = rsc.decode(y)\n",
    "        if (z[0] != x):\n",
    "            silentFaults += 1\n",
    "    except:\n",
    "        detections = detections + 1\n",
    "        \n",
    "trials, detections, silentFaults"
   ]
  },
  {
   "cell_type": "code",
   "execution_count": 7,
   "id": "c33b6605-5753-4b6b-92b8-69433957697c",
   "metadata": {},
   "outputs": [
    {
     "data": {
      "text/plain": [
       "0.0"
      ]
     },
     "execution_count": 7,
     "metadata": {},
     "output_type": "execute_result"
    }
   ],
   "source": [
    "# The ratio of failures should be zero\n",
    "\n",
    "shouldCorrectButFailed = (detections + silentFaults) / (trials + 1)\n",
    "shouldCorrectButFailed"
   ]
  },
  {
   "cell_type": "markdown",
   "id": "37cdabd0",
   "metadata": {},
   "source": [
    "if we try to use RS(N+4,N) but overwhelm it with a whole-chip error (more than 2 bytes), how good is RS(N+4,N) at\n",
    "reporting the uncorrectables?  We count the attempts which raised no exception, and verify that any that did not raise an exception are actually silent failures."
   ]
  },
  {
   "cell_type": "code",
   "execution_count": 8,
   "id": "d52a7c8d-8686-48a6-a384-f4a82fe8f98d",
   "metadata": {},
   "outputs": [
    {
     "data": {
      "text/plain": [
       "(9999, 9645, 355)"
      ]
     },
     "execution_count": 8,
     "metadata": {},
     "output_type": "execute_result"
    }
   ],
   "source": [
    "# scale up the error size to 4 contiguous bytes and check for detection of uncorrectables\n",
    "\n",
    "detections = 0\n",
    "silentFaults = 0\n",
    "\n",
    "# the last bounded fault includes the check bytes\n",
    "lastBound = int((N/4) + 0)\n",
    "\n",
    "for trials in range (0,10000):\n",
    "    # keep permuting the data to ensure we see impact from both the data and the errors\n",
    "    for i in range(0,N) :\n",
    "        x[i] = random.randint(0,255)\n",
    "\n",
    "    y = rsc.encode(x)\n",
    "\n",
    "    i = 4 *random.randint(0,lastBound)\n",
    "    y[i] ^= random.randint(1,255)\n",
    "    y[i+1] ^= random.randint(1,255)\n",
    "    y[i+2] ^= random.randint(1,255)\n",
    "    y[i+3] ^= random.randint(1,255)\n",
    "\n",
    "    try:\n",
    "        z = rsc.decode(y)\n",
    "        if (z[0] != x):\n",
    "            silentFaults += 1\n",
    "    except:\n",
    "        detections = detections + 1\n",
    "        \n",
    "trials, detections, silentFaults"
   ]
  },
  {
   "cell_type": "code",
   "execution_count": null,
   "id": "275446d8-fa1c-455b-8d34-303d61ef9ba2",
   "metadata": {},
   "outputs": [],
   "source": [
    "# The ratio of detection vs. deception attempts shows the quality of defense\n",
    "\n",
    "probity = detections / (trials + 1)\n",
    "\n",
    "# what is observed is around 99%: the RS(N+4,N) code will allow around 1% of whole-chip errors to pass silently undetected.\n",
    "\n",
    "probity"
   ]
  },
  {
   "cell_type": "markdown",
   "id": "c8001ef5",
   "metadata": {},
   "source": [
    "How good is RS(N+4,N) at detecting separated uncorrectables?  These might be generated by RowHammer or similar disturbance effects, including electromagnetic interference.  We count the attempts which raised no exception and verify that they are silent failures.\n",
    "\n",
    "This check runs over 256 bits, but modern CPUs and most other chips will use DD5 for 512 bit transfers.  This means that each half-transfer is a separate chance of detection.  If the system is secure it should be encrypting memory, which means distubance effects from other locations will affect bits in both halves, significantly raising the chances of detecting corruption.  Good RAS firmware should be alert to the repeated failures long before a successful corruptiong can be achieved."
   ]
  },
  {
   "cell_type": "code",
   "execution_count": 9,
   "id": "e4134baa-c453-4614-ab25-b64b4fabcf9b",
   "metadata": {},
   "outputs": [
    {
     "data": {
      "text/plain": [
       "(9999, 9650, 350)"
      ]
     },
     "execution_count": 9,
     "metadata": {},
     "output_type": "execute_result"
    }
   ],
   "source": [
    "detections = 0\n",
    "silentFaults = 0\n",
    "last = N + 3\n",
    "\n",
    "for trials in range (0,10000):\n",
    "    # keep permuting the data to ensure we see impact from both the data and the errors\n",
    "    for i in range(0,N) :\n",
    "        x[i] = random.randint(0,255)\n",
    "\n",
    "    y = rsc.encode(x)\n",
    "\n",
    "    i = random.randint(0,last)\n",
    "    j = random.randint(0,last)\n",
    "    while i == j:\n",
    "        j = random.randint(0,last)\n",
    "    k = random.randint(0,last)\n",
    "    while (i == k) or (j == k):\n",
    "        k = random.randint(0,last)\n",
    "    m = random.randint(0,last)\n",
    "    while (i == m) or (j == m) or (k == m):\n",
    "        m = random.randint(0,last)\n",
    "    n = random.randint(0,last)\n",
    "    while (i == n) or (j == n) or (k == n) or (m == n):\n",
    "        n = random.randint(0,last)\n",
    "\n",
    "# comment out some of these to compare 3, 4, or 5 errors.  The ratio barely changes.\n",
    "    y[i] ^= random.randint(1,255)\n",
    "    y[j] ^= random.randint(1,255)\n",
    "    y[k] ^= random.randint(1,255)\n",
    "    y[m] ^= random.randint(1,255)\n",
    "    y[n] ^= random.randint(1,255)\n",
    "\n",
    "    try:\n",
    "        z = rsc.decode(y)\n",
    "        if (z[0] != x):\n",
    "            silentFaults += 1\n",
    "    except:\n",
    "        detections = detections + 1\n",
    "        \n",
    "trials, detections, silentFaults"
   ]
  },
  {
   "cell_type": "code",
   "execution_count": 10,
   "id": "c86b1416-1a5b-41a2-aa78-61bf5b556372",
   "metadata": {},
   "outputs": [
    {
     "data": {
      "text/plain": [
       "0.965"
      ]
     },
     "execution_count": 10,
     "metadata": {},
     "output_type": "execute_result"
    }
   ],
   "source": [
    "# The ratio of detection vs. deception attempts shows the quality of defense\n",
    "\n",
    "probity = detections / (trials + 1)\n",
    "\n",
    "# for RS(36,32) what is observed is about 99%: about 1% of multichip errors to pass silently.\n",
    "# for RS(68,64) what is observed is about 99%: about 1% of multichip errors to pass silently.\n",
    "\n",
    "probity"
   ]
  },
  {
   "cell_type": "markdown",
   "id": "d4618f41",
   "metadata": {},
   "source": [
    "This last run models using R-S with erasures specifying each chip in turn, to see if it will reject wrong chips.\n",
    "It is assuming we figured out which chip has failed and want to \"run-flat\" until a hardware repair is possible.\n",
    "This would give hope of using the 9-chip position information to fix some full-chip errors with just 4 check symbols.\n",
    "In general one could identify \"chip\" as a 4-byte bound, maybe a known-bad subarray.\n",
    "\n",
    "It is not expected to work: it does not.  The decode function will never report a failure if it is given 4 locations to correct.  All 4 check symbols are consumed in calculating the erased locations, and none are left for verifying the work.  Despite intuition that multibit failures may be repeatable and thus the chip can be predicted (of tests after a fault can identify the fault) the actual field data is that most multibit failures are transient or intermittent.  Even if we put complex retry code into the RAS firmware of the host chip, that just raises complexity a lot but the reliability will not improve enough to change the memory into a higher grade of reliability.\n",
    "\n",
    "Bounded fault ECC is quite possibly the right choice if savings on cost and power of memory are reinvested in other places for reliability, but it is going to give up on faults which an RS(40,32) system could fix.  It will, however detect >99% of the faults it cannot correct, making it quite trustworthy.  A 64GB DIMM with 36 DRAM chips would have a less than 1.5 FIT for silent faults, which is about 1 failure per 700 years.  On most systems that is much less than other causes of silent failures."
   ]
  },
  {
   "cell_type": "code",
   "execution_count": 11,
   "id": "5f12ef52-b107-4064-83de-6b44f8dd6121",
   "metadata": {},
   "outputs": [
    {
     "data": {
      "text/plain": [
       "(999, 9000, 558, 8442, 0)"
      ]
     },
     "execution_count": 11,
     "metadata": {},
     "output_type": "execute_result"
    }
   ],
   "source": [
    "corrections = 0\n",
    "silentFaults = 0\n",
    "detections = 0\n",
    "positions = 0\n",
    "lastChip = int(N/4)\n",
    "for trials in range (0,1000):\n",
    "    # keep permuting the data to ensure we see impact from both the data and the errors\n",
    "    x = y[0:N]\n",
    "    y = rsc.encode(x)\n",
    "\n",
    "    i = 4 * random.randint(0,lastChip)\n",
    "\n",
    "    y[i]   ^= random.randint(1,255)\n",
    "    y[i+1] ^= random.randint(1,255)\n",
    "    y[i+2] ^= random.randint(1,255)\n",
    "    y[i+3] ^= random.randint(1,255)\n",
    "\n",
    "    for j in range (0,9):\n",
    "        jj = j * 4\n",
    "        positions += 1\n",
    "        try:\n",
    "            z = rsc.decode(y, erase_pos = [jj, jj+1, jj+2, jj+3])\n",
    "            if(z[0] == x):\n",
    "                corrections += 1\n",
    "            else:\n",
    "                silentFaults += 1\n",
    "#                print(y)\n",
    "        except:\n",
    "            detections = detections + 1\n",
    "\n",
    "trials, positions, corrections, silentFaults, detections\n"
   ]
  },
  {
   "cell_type": "code",
   "execution_count": 12,
   "id": "195f7dd0-5c4b-4aaf-8cae-d1dc8e485e28",
   "metadata": {},
   "outputs": [
    {
     "data": {
      "text/plain": [
       "0.558"
      ]
     },
     "execution_count": 12,
     "metadata": {},
     "output_type": "execute_result"
    }
   ],
   "source": [
    "# we would need a ratio of 0.99 or better for this method to make sense\n",
    "\n",
    "guidedBounds = corrections / (trials + 1)\n",
    "\n",
    "# the R-S algorithm will hallucinate values if you specify the wrong erasure positions.\n",
    "#    but it will be perfect if you have the correct erasures\n",
    "\n",
    "guidedBounds"
   ]
  },
  {
   "cell_type": "markdown",
   "id": "2dcc39e1",
   "metadata": {},
   "source": [
    "How good is RS(N+8,N) - commonly called \"chipkill ECC\" - at detecting multichip uncorrectables?  These might be generated by RowHammer or similar disturbance effects.\n",
    "\n",
    "We count the attempts which raised no exception and verify any it claims to correct.  If you comment out the error-masking lines to leave only 4 faults you will observe (as expected) that RS(N+8,N) can correct four errors at any byte location, not just contiguous."
   ]
  },
  {
   "cell_type": "code",
   "execution_count": 13,
   "id": "10059006-b1db-4412-96c8-09c533a140c0",
   "metadata": {},
   "outputs": [
    {
     "data": {
      "text/plain": [
       "(9999, 9999, 1)"
      ]
     },
     "execution_count": 13,
     "metadata": {},
     "output_type": "execute_result"
    }
   ],
   "source": [
    "rsc8 = RSCodec(8)  # 8 ecc symbols, RS(N+8,N)\n",
    "\n",
    "detections = 0\n",
    "silentFaults = 0\n",
    "last = N+7\n",
    "\n",
    "for trials in range (0,10000):\n",
    "    # keep permuting the data to ensure we see impact from both the data and the errors\n",
    "    x = y[0:N]\n",
    "    y = rsc8.encode(x)\n",
    "\n",
    "    i = random.randint(0,last)\n",
    "    j = random.randint(0,last)\n",
    "    while i == j:\n",
    "        j = random.randint(0,last)\n",
    "    k = random.randint(0,last)\n",
    "    while (i == k) or (j == k):\n",
    "        k = random.randint(0,last)\n",
    "    m = random.randint(0,last)\n",
    "    while (i == m) or (j == m) or (k == m):\n",
    "        m = random.randint(0,last)\n",
    "    n = random.randint(0,last)\n",
    "    while (i == n) or (j == n) or (k == n) or (m == n):\n",
    "        n = random.randint(0,last)\n",
    "    p = random.randint(0,last)\n",
    "    while (i == p) or (j == p) or (k == p) or (m == p) or (n == p):\n",
    "        p = random.randint(0,last)\n",
    "    q = random.randint(0,last)\n",
    "    while (i == q) or (j == q) or (k == q) or (m == q) or (n == q) or (p == q):\n",
    "        q = random.randint(0,last)\n",
    "\n",
    "# comment out some of these to compare 5, 6, or 7 errors.  They are all perfectly detected.\n",
    "# all 4-location errors are corrected.\n",
    "\n",
    "    y[i] ^= random.randint(1,255)\n",
    "    y[j] ^= random.randint(1,255)\n",
    "    y[k] ^= random.randint(1,255)\n",
    "    y[m] ^= random.randint(1,255)\n",
    "    y[n] ^= random.randint(1,255)\n",
    "    y[p] ^= random.randint(1,255)\n",
    "    y[q] ^= random.randint(1,255)\n",
    "\n",
    "    try:\n",
    "        z = rsc8.decode(y)\n",
    "        if (z[0] != x):\n",
    "            silentFaults += 1\n",
    "    except:\n",
    "        detections = detections + 1\n",
    "        \n",
    "trials, detections, silentFaults"
   ]
  },
  {
   "cell_type": "code",
   "execution_count": 14,
   "id": "3c892148-ed13-438b-b860-324ef5b3e7b9",
   "metadata": {},
   "outputs": [
    {
     "data": {
      "text/plain": [
       "0.9999"
      ]
     },
     "execution_count": 14,
     "metadata": {},
     "output_type": "execute_result"
    }
   ],
   "source": [
    "# The ratio of detection vs. deception attempts shows the quality of defense\n",
    "\n",
    "probity = detections / (trials + 1)\n",
    "\n",
    "# what is observed is essentially perfect: the RS(40,32) code will detect all uncorrectable errors\n",
    "\n",
    "probity"
   ]
  }
 ],
 "metadata": {
  "kernelspec": {
   "display_name": "Python 3 (ipykernel)",
   "language": "python",
   "name": "python3"
  },
  "language_info": {
   "codemirror_mode": {
    "name": "ipython",
    "version": 3
   },
   "file_extension": ".py",
   "mimetype": "text/x-python",
   "name": "python",
   "nbconvert_exporter": "python",
   "pygments_lexer": "ipython3",
   "version": "3.12.0"
  }
 },
 "nbformat": 4,
 "nbformat_minor": 5
}
