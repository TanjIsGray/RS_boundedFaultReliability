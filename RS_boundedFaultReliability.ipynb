{
 "cells": [
  {
   "cell_type": "code",
   "execution_count": 1,
   "id": "aaa3aa9a-9544-484d-b651-17336eb5dbfb",
   "metadata": {},
   "outputs": [],
   "source": [
    "# An investigation of Reed Solomon reliability for the bounded-fault scenario\n",
    "# Tanj Bennett, copyright (c) 2023, 2025, Avant-Gray LLC\n",
    "# Usage rights granted under terms of the MIT open-source license.\n",
    "\n",
    "# using the very nice work of Tomer Fileba, whose work remains separate\n",
    "# at https://github.com/tomerfiliba-org/reedsolomon/blob/master/src/reedsolo/reedsolo.py\n",
    "\n",
    "# uncomment the following line once to install that library\n",
    "# !pip install --upgrade reedsolo\n",
    "# !pip install --upgrade numpy"
   ]
  },
  {
   "cell_type": "code",
   "execution_count": 2,
   "id": "c544962c-4bfc-4df1-9bf4-48e683dce884",
   "metadata": {},
   "outputs": [
    {
     "data": {
      "text/plain": [
       "<reedsolo.RSCodec at 0x186e1264ad0>"
      ]
     },
     "execution_count": 2,
     "metadata": {},
     "output_type": "execute_result"
    }
   ],
   "source": [
    "# import and verify the import succeeded.\n",
    "\n",
    "from reedsolo import RSCodec, ReedSolomonError\n",
    "rsc = RSCodec(4)  # 4 ecc symbols.\n",
    "rsc"
   ]
  },
  {
   "cell_type": "code",
   "execution_count": 3,
   "id": "32928358-2016-451b-8b72-a7794ede1dc9",
   "metadata": {},
   "outputs": [],
   "source": [
    "# import and verify random number generation.  Nothing fancy is needed, just ensure it is present.\n",
    "\n",
    "import random\n",
    "import numpy"
   ]
  },
  {
   "cell_type": "markdown",
   "id": "7443d693",
   "metadata": {},
   "source": [
    "The encode operation will be used to take a 32-byte data set (held as a byte array) and then calculate 4 extra check symbols which are appended to the 36-byte stored form.  These 4 extra symbols are also bytes.  The Reed-Solomon (36,32) algorithm has the capability to use the 4 extra symbols to locate up to 2 errors in any of the 36 bytes and to calculate a correction for them.\n",
    "\n",
    "If we know where the errors are then the 4 extra symbols can be used to correct up to 4 errors (these known locations are known as \"erasures\").  This does not help us for the DRAM case, since we rarely know where the errors are and it is unsafe to use that mode.  One of the sections of this code demonstrates use of erasure information.\n",
    "\n",
    "The article \"https://en.wikiversity.org/wiki/Reed%E2%80%93Solomon_codes_for_coders\" is recommended as a very approachable and lucid explanation of Reed Solomon.  If you enjoyed math at the high school level you can read that article, just be prepared to be patient and methodical in working through it."
   ]
  },
  {
   "cell_type": "code",
   "execution_count": 4,
   "id": "014a7203-18b3-45b8-b705-1c01cc651dbc",
   "metadata": {},
   "outputs": [
    {
     "data": {
      "text/plain": [
       "(128,\n",
       " bytearray(b'5%\\x8f.\\xd1\\xca(\\xdf\\xe5Q\\x8c\\xe6\\xe1w?\\xee\\xa4-$ \\xe6\\xcb\\x86\\xc9\\x9d\\x8f7\\xee\\x84*\\xfb\\xbb\\xb9\\x15;\\xe2\\xf3\\x96+\\xd1y6\\x14*\\xcc\\x90}\\xdd\\xff3\\xeeo\\xc6\\xe6E\\x0e_NY\\x97{\\xa7\\xf3\\xb4\\x03\\x96\\xd6\\xc7\\xb2\\x16\\xff(\\xa1\\xed\\x83\\xab\\x1e%\\x0f%\\x97\\\\\\xa7\\x9b\\x9c(x\\xd1\\x96\\xb4\\xe1\\x95O\\xd0D\\x92\\xb3G\\x0f\\xae\\xe3\\x84h#\\x12\\x1e\\xe9\\xbfY\\xe1\\xb5&Z\\xdf\\xac[\\xc0cm\\x1cA\\xa3l<\\xa6o\\x19\\x15'),\n",
       " 132,\n",
       " bytearray(b'5%\\x8f.\\xd1\\xca(\\xdf\\xe5Q\\x8c\\xe6\\xe1w?\\xee\\xa4-$ \\xe6\\xcb\\x86\\xc9\\x9d\\x8f7\\xee\\x84*\\xfb\\xbb\\xb9\\x15;\\xe2\\xf3\\x96+\\xd1y6\\x14*\\xcc\\x90}\\xdd\\xff3\\xeeo\\xc6\\xe6E\\x0e_NY\\x97{\\xa7\\xf3\\xb4\\x03\\x96\\xd6\\xc7\\xb2\\x16\\xff(\\xa1\\xed\\x83\\xab\\x1e%\\x0f%\\x97\\\\\\xa7\\x9b\\x9c(x\\xd1\\x96\\xb4\\xe1\\x95O\\xd0D\\x92\\xb3G\\x0f\\xae\\xe3\\x84h#\\x12\\x1e\\xe9\\xbfY\\xe1\\xb5&Z\\xdf\\xac[\\xc0cm\\x1cA\\xa3l<\\xa6o\\x19\\x15\\x17\\xcf\\xd4\\xaf'))"
      ]
     },
     "execution_count": 4,
     "metadata": {},
     "output_type": "execute_result"
    }
   ],
   "source": [
    "# Encoding\n",
    "# just a list of numbers/symbols:\n",
    "N = 128\n",
    "x = bytearray(N)\n",
    "for i in range(0,N) :\n",
    "    x[i] = random.randint(0,255)\n",
    "\n",
    "y = rsc.encode(x)\n",
    "\n",
    "# used with N data bytes and 4 check symbols, this supports 256 bit data using RS(N+4,N)\n",
    "len(x), x, len(y), y"
   ]
  },
  {
   "cell_type": "markdown",
   "id": "4fc1ca3e",
   "metadata": {},
   "source": [
    "A helper function to generate a list of random distinct integers"
   ]
  },
  {
   "cell_type": "code",
   "execution_count": null,
   "id": "76b2da5d",
   "metadata": {},
   "outputs": [],
   "source": []
  },
  {
   "cell_type": "markdown",
   "id": "128cde5a",
   "metadata": {},
   "source": [
    "The decode operation returns a 3-tuple, the [0] part of it is the corrected data.\n",
    "The [1] part is the full data with check symbols, and the [2] part is the byte indexes of the corrections.\n",
    "The decode operation will throw an exception if if detects a failure to deliver correct data."
   ]
  },
  {
   "cell_type": "code",
   "execution_count": 5,
   "id": "c57861f5",
   "metadata": {},
   "outputs": [
    {
     "data": {
      "text/plain": [
       "(bytearray(b'5%\\x8f.\\xd1\\xca(\\xdf\\xe5Q\\x8c\\xe6\\xe1w?\\xee\\xa4-$ \\xe6\\xcb\\x86\\xc9\\x9d\\x8f7\\xee\\x84*\\xfb\\xbb\\xb9\\x15;\\xe2\\xf3\\x96+\\xd1y6\\x14*\\xcc\\x90}\\xdd\\xff3\\xeeo\\xc6\\xe6E\\x0e_NY\\x97{\\xa7\\xf3\\xb4\\x03\\x96\\xd6\\xc7\\xb2\\x16\\xff(\\xa1\\xed\\x83\\xab\\x1e%\\x0f%\\x97\\\\\\xa7\\x9b\\x9c(x\\xd1\\x96\\xb4\\xe1\\x95O\\xd0D\\x92\\xb3G\\x0f\\xae\\xe3\\x84h#\\x12\\x1e\\xe9\\xbfY\\xe1\\xb5&Z\\xdf\\xac[\\xc0cm\\x1cA\\xa3l<\\xa6o\\x19\\x15'),\n",
       " (bytearray(b'5%\\x8f.\\xd1\\xca(\\xdf\\xe5Q\\x8c\\xe6\\xe1w?\\xee\\xa4-$ \\xe6\\xcb\\x86\\xc9\\x9d\\x8f7\\xee\\x84*\\xfb\\xbb\\xb9\\x15;\\xe2\\xf3\\x96+\\xd1y6\\x14*\\xcc\\x90}\\xdd\\xff3\\xeeo\\xc6\\xe6E\\x0e_NY\\x97{\\xa7\\xf3\\xb4\\x03\\x96\\xd6\\xc7\\xb2\\x16\\xff(\\xa1\\xed\\x83\\xab\\x1e%\\x0f%\\x97\\\\\\xa7\\x9b\\x9c(x\\xd1\\x96\\xb4\\xe1\\x95O\\xd0D\\x92\\xb3G\\x0f\\xae\\xe3\\x84h#\\x12\\x1e\\xe9\\xbfY\\xe1\\xb5&Z\\xdf\\xac[\\xc0cm\\x1cA\\xa3l<\\xa6o\\x19\\x15'),\n",
       "  bytearray(b'5%\\x8f.\\xd1\\xca(\\xdf\\xe5Q\\x8c\\xe6\\xe1w?\\xee\\xa4-$ \\xe6\\xcb\\x86\\xc9\\x9d\\x8f7\\xee\\x84*\\xfb\\xbb\\xb9\\x15;\\xe2\\xf3\\x96+\\xd1y6\\x14*\\xcc\\x90}\\xdd\\xff3\\xeeo\\xc6\\xe6E\\x0e_NY\\x97{\\xa7\\xf3\\xb4\\x03\\x96\\xd6\\xc7\\xb2\\x16\\xff(\\xa1\\xed\\x83\\xab\\x1e%\\x0f%\\x97\\\\\\xa7\\x9b\\x9c(x\\xd1\\x96\\xb4\\xe1\\x95O\\xd0D\\x92\\xb3G\\x0f\\xae\\xe3\\x84h#\\x12\\x1e\\xe9\\xbfY\\xe1\\xb5&Z\\xdf\\xac[\\xc0cm\\x1cA\\xa3l<\\xa6o\\x19\\x15\\x17\\xcf\\xd4\\xaf'),\n",
       "  bytearray(b'')),\n",
       " True)"
      ]
     },
     "execution_count": 5,
     "metadata": {},
     "output_type": "execute_result"
    }
   ],
   "source": [
    "z = rsc.decode(y)\n",
    "x, z, x == z[0]"
   ]
  },
  {
   "cell_type": "markdown",
   "id": "b72d0410",
   "metadata": {},
   "source": [
    " If we try to correct a bounded error (just 2 symbols aligned on a two-DQ boundary) then RS(N+4,N) should fix them all.  We count the attempts which raised no exception, and we verify the results claiming to deliver good data."
   ]
  },
  {
   "cell_type": "code",
   "execution_count": 6,
   "id": "7525904c-30ad-4aa6-852a-afb86cdd3d97",
   "metadata": {},
   "outputs": [
    {
     "name": "stdout",
     "output_type": "stream",
     "text": [
      "trials=10000, detections=0, silentFaults=0\n",
      "shouldCorrectButFailed=0.0\n"
     ]
    }
   ],
   "source": [
    "detections = 0\n",
    "silentFaults = 0\n",
    "\n",
    "# model 2-byte contiguous faults, so just half the positions\n",
    "# the last bounded fault includes the check bytes\n",
    "lastBound = int((N/2) + 1)\n",
    "\n",
    "for trials in range (0,10000):\n",
    "    # keep permuting the data to ensure we see impact from both the data and the errors\n",
    "    for i in range(0,N) :\n",
    "        x[i] = random.randint(0,255)\n",
    "\n",
    "    y = rsc.encode(x)\n",
    "\n",
    "    i = 2 * random.randint(0,lastBound)\n",
    "    y[i] ^= random.randint(1,255)\n",
    "    y[i+1] ^= random.randint(1,255)\n",
    "\n",
    "    try:\n",
    "        z = rsc.decode(y)\n",
    "        if (z[0] != x):\n",
    "            silentFaults += 1\n",
    "    except:\n",
    "        detections = detections + 1\n",
    "        \n",
    "print(f\"trials={trials+1}, detections={detections}, silentFaults={silentFaults}\")\n",
    "\n",
    "# The ratio of failures should be zero\n",
    "\n",
    "shouldCorrectButFailed = (detections + silentFaults) / (trials + 1)\n",
    "print(f\"shouldCorrectButFailed={shouldCorrectButFailed}\")"
   ]
  },
  {
   "cell_type": "markdown",
   "id": "37cdabd0",
   "metadata": {},
   "source": [
    "if we try to use RS(N+4,N) but overwhelm it with a whole-chip error (more than 2 bytes), how good is RS(N+4,N) at\n",
    "reporting the uncorrectables?  We count the attempts which raised no exception, and verify that any that did not raise an exception are actually silent failures."
   ]
  },
  {
   "cell_type": "code",
   "execution_count": 7,
   "id": "d52a7c8d-8686-48a6-a384-f4a82fe8f98d",
   "metadata": {},
   "outputs": [
    {
     "name": "stdout",
     "output_type": "stream",
     "text": [
      "trials=10000, detections=8686, silentFaults=1314\n",
      "probity=0.8686\n"
     ]
    }
   ],
   "source": [
    "# scale up the error size to 4 contiguous bytes and check for detection of uncorrectables\n",
    "\n",
    "detections = 0\n",
    "silentFaults = 0\n",
    "\n",
    "# the last bounded fault includes the check bytes\n",
    "lastBound = int((N/4) + 0)\n",
    "\n",
    "for trials in range (0,10000):\n",
    "    # keep permuting the data to ensure we see impact from both the data and the errors\n",
    "    for i in range(0,N) :\n",
    "        x[i] = random.randint(0,255)\n",
    "\n",
    "    y = rsc.encode(x)\n",
    "\n",
    "    i = 4 *random.randint(0,lastBound)\n",
    "    y[i] ^= random.randint(1,255)\n",
    "    y[i+1] ^= random.randint(1,255)\n",
    "    y[i+2] ^= random.randint(1,255)\n",
    "    y[i+3] ^= random.randint(1,255)\n",
    "\n",
    "    try:\n",
    "        z = rsc.decode(y)\n",
    "        if (z[0] != x):\n",
    "            silentFaults += 1\n",
    "    except:\n",
    "        detections = detections + 1\n",
    "        \n",
    "print(f\"trials={trials+1}, detections={detections}, silentFaults={silentFaults}\")\n",
    "\n",
    "# The ratio of detection vs. deception attempts shows the quality of defense\n",
    "\n",
    "probity = detections / (trials + 1)\n",
    "\n",
    "# what is observed is around 99%: the RS(N+4,N) code will allow around 1% of whole-chip errors to pass silently undetected.\n",
    "\n",
    "print(f\"probity={probity}\")"
   ]
  },
  {
   "cell_type": "markdown",
   "id": "c8001ef5",
   "metadata": {},
   "source": [
    "How good is RS(N+4,N) at detecting separated uncorrectables?  These might be generated by RowHammer or similar disturbance effects, including electromagnetic interference.  We count the attempts which raised no exception and verify that they are silent failures.\n",
    "\n",
    "This check runs over 256 bits, but modern CPUs and most other chips will use DD5 for 512 bit transfers.  This means that each half-transfer is a separate chance of detection.  If the system is secure it should be encrypting memory, which means distubance effects from other locations will affect bits in both halves, significantly raising the chances of detecting corruption.  Good RAS firmware should be alert to the repeated failures long before a successful corruptiong can be achieved."
   ]
  },
  {
   "cell_type": "code",
   "execution_count": 8,
   "id": "e4134baa-c453-4614-ab25-b64b4fabcf9b",
   "metadata": {},
   "outputs": [
    {
     "name": "stdout",
     "output_type": "stream",
     "text": [
      "eraseCount=3, trials=10000, detections=8757, silentFaults=1243\n",
      "probity=0.8757\n",
      "eraseCount=4, trials=10000, detections=8646, silentFaults=1354\n",
      "probity=0.8646\n",
      "eraseCount=5, trials=10000, detections=8632, silentFaults=1368\n",
      "probity=0.8632\n"
     ]
    }
   ],
   "source": [
    "for eraseCount in [3,4,5]:\n",
    "    detections = 0\n",
    "    silentFaults = 0\n",
    "    last = N + 3\n",
    "\n",
    "    for trials in range (0,10000):\n",
    "        # keep permuting the data to ensure we see impact from both the data and the errors\n",
    "        for i in range(0,N) :\n",
    "            x[i] = random.randint(0,255)\n",
    "\n",
    "        y = rsc.encode(x)\n",
    "\n",
    "        positions = random.sample(population=range(last), k=eraseCount)\n",
    "\n",
    "        for posn in positions:\n",
    "            y[posn] ^= random.randint(1,255)\n",
    "\n",
    "        try:\n",
    "            z = rsc.decode(y)\n",
    "            if (z[0] != x):\n",
    "                silentFaults += 1\n",
    "        except:\n",
    "            detections = detections + 1\n",
    "        \n",
    "    print(f\"eraseCount={eraseCount}, trials={trials+1}, detections={detections}, silentFaults={silentFaults}\")\n",
    "\n",
    "    # The ratio of detection vs. deception attempts shows the quality of defense\n",
    "\n",
    "    probity = detections / (trials + 1)\n",
    "    print(f\"probity={probity}\")\n",
    "\n",
    "# for RS(36,32) what is observed is about 99%: about 1% of multichip errors to pass silently.\n",
    "# for RS(68,64) what is observed is about 99%: about 1% of multichip errors to pass silently."
   ]
  },
  {
   "cell_type": "markdown",
   "id": "d4618f41",
   "metadata": {},
   "source": [
    "This next run models using R-S with erasures specifying each chip in turn, to see if it will reject wrong chips.\n",
    "It is assuming we figured out which chip has failed and want to \"run-flat\" until a hardware repair is possible.\n",
    "This would give hope of using the 9-chip position information to fix some full-chip errors with just 4 check symbols.\n",
    "In general one could identify \"chip\" as a 4-byte bound, maybe a known-bad subarray.\n",
    "\n",
    "It is not expected to work: it does not.  The decode function will never report a failure if it is given 4 locations to correct.  All 4 check symbols are consumed in calculating the erased locations, and none are left for verifying the work.  Despite intuition that multibit failures may be repeatable and thus the chip can be predicted (of tests after a fault can identify the fault) the actual field data is that most multibit failures are transient or intermittent.  Even if we put complex retry code into the RAS firmware of the host chip, that just raises complexity a lot but the reliability will not improve enough to change the memory into a higher grade of reliability.\n",
    "\n",
    "Bounded fault ECC is quite possibly the right choice if savings on cost and power of memory are reinvested in other places for reliability, but it is going to give up on faults which an RS(40,32) system could fix.  It will, however detect >99% of the faults it cannot correct, making it quite trustworthy.  A 64GB DIMM with 36 DRAM chips would have a less than 1.5 FIT for silent faults, which is about 1 failure per 700 years.  On most systems that is much less than other causes of silent failures."
   ]
  },
  {
   "cell_type": "code",
   "execution_count": 9,
   "id": "5f12ef52-b107-4064-83de-6b44f8dd6121",
   "metadata": {},
   "outputs": [
    {
     "name": "stdout",
     "output_type": "stream",
     "text": [
      "trials=1000, positions=9000, corrections=294, silentFaults=8706, detections=0\n",
      "guidedBounds=0.294\n"
     ]
    }
   ],
   "source": [
    "corrections = 0\n",
    "silentFaults = 0\n",
    "detections = 0\n",
    "positions = 0\n",
    "lastChip = int(N/4)\n",
    "\n",
    "for trials in range (0,1000):\n",
    "    # keep permuting the data to ensure we see impact from both the data and the errors\n",
    "    x = y[0:N]\n",
    "    y = rsc.encode(x)\n",
    "\n",
    "    i = 4 * random.randint(0,lastChip)\n",
    "\n",
    "    y[i]   ^= random.randint(1,255)\n",
    "    y[i+1] ^= random.randint(1,255)\n",
    "    y[i+2] ^= random.randint(1,255)\n",
    "    y[i+3] ^= random.randint(1,255)\n",
    "\n",
    "    for j in range (0,9):\n",
    "        jj = j * 4\n",
    "        positions += 1\n",
    "        try:\n",
    "            z = rsc.decode(y, erase_pos = [jj, jj+1, jj+2, jj+3])\n",
    "            if(z[0] == x):\n",
    "                corrections += 1\n",
    "            else:\n",
    "                silentFaults += 1\n",
    "#                print(y)\n",
    "        except:\n",
    "            detections = detections + 1\n",
    "\n",
    "print(f\"trials={trials+1}, positions={positions}, corrections={corrections}, silentFaults={silentFaults}, detections={detections}\")\n",
    "\n",
    "# we would need a ratio of 0.99 or better for this method to make sense\n",
    "\n",
    "guidedBounds = corrections / (trials + 1)\n",
    "\n",
    "# the R-S algorithm will hallucinate values if you specify the wrong erasure positions.\n",
    "#    but it will be perfect if you have the correct erasures\n",
    "\n",
    "print(f\"guidedBounds={guidedBounds}\")"
   ]
  },
  {
   "cell_type": "markdown",
   "id": "2dcc39e1",
   "metadata": {},
   "source": [
    "How good is RS(N+8,N) - commonly called \"chipkill ECC\" - at detecting multichip uncorrectables?  These might be generated by RowHammer or similar disturbance effects.\n",
    "\n",
    "We count the attempts which raised no exception and verify any it claims to correct.  If you comment out the error-masking lines to leave only 4 faults you will observe (as expected) that RS(N+8,N) can correct four errors at any byte location, not just contiguous."
   ]
  },
  {
   "cell_type": "code",
   "execution_count": 10,
   "id": "10059006-b1db-4412-96c8-09c533a140c0",
   "metadata": {},
   "outputs": [
    {
     "name": "stdout",
     "output_type": "stream",
     "text": [
      "N=128, eraseCount=5, trials=10000, detections=9965, silentFaults=35\n",
      "probity=0.9965\n",
      "N=128, eraseCount=6, trials=10000, detections=9966, silentFaults=34\n",
      "probity=0.9966\n",
      "N=128, eraseCount=7, trials=10000, detections=9972, silentFaults=28\n",
      "probity=0.9972\n"
     ]
    }
   ],
   "source": [
    "rsc8 = RSCodec(8)  # 8 ecc symbols, RS(N+8,N)\n",
    "\n",
    "# all 4-location errors are corrected, we already checked that\n",
    "\n",
    "for eraseCount in[5, 6, 7]:\n",
    "    detections = 0\n",
    "    silentFaults = 0\n",
    "\n",
    "    last = N + eraseCount\n",
    "\n",
    "    for trials in range (0,10000):\n",
    "        # keep permuting the data to ensure we see impact from both the data and the errors\n",
    "        x = y[0:N]\n",
    "        y = rsc8.encode(x)\n",
    "\n",
    "        positions = random.sample(population=range(last), k=7)\n",
    "\n",
    "        for posn in positions:\n",
    "            y[posn] ^= random.randint(1,255)\n",
    "\n",
    "        try:\n",
    "            z = rsc8.decode(y)\n",
    "            if (z[0] != x):\n",
    "                silentFaults += 1\n",
    "        except:\n",
    "            detections = detections + 1\n",
    "            \n",
    "    print(f\"N={N}, eraseCount={eraseCount}, trials={trials+1}, detections={detections}, silentFaults={silentFaults}\")\n",
    "\n",
    "    # The ratio of detection vs. deception attempts shows the quality of defense\n",
    "\n",
    "    probity = detections / (trials + 1)\n",
    "\n",
    "    # what is observed is essentially perfect: the RS(40,32) code will detect nearly all uncorrectable errors\n",
    "\n",
    "    print(f\"probity={probity}\")"
   ]
  },
  {
   "cell_type": "markdown",
   "id": "826ba4ca",
   "metadata": {},
   "source": [
    "This next test is designed to push the limits on very long strings where erasure positions are known, for example if we use erasure codes across storage data where CRCs are telling us the faulty storage blocks. There are reasons why very large block counts are unlikely to be used, but let's just see what happens"
   ]
  },
  {
   "cell_type": "code",
   "execution_count": 11,
   "id": "f2578dda",
   "metadata": {},
   "outputs": [
    {
     "name": "stdout",
     "output_type": "stream",
     "text": [
      "N=120, eraseCount=8, trials=1000, detections=0, silentFaults=0\n",
      "N=248, eraseCount=8, trials=1000, detections=0, silentFaults=0\n",
      "N=249, eraseCount=8, trials=1000, detections=0, silentFaults=0\n",
      "N=256, eraseCount=8, trials=1000, detections=0, silentFaults=0\n",
      "N=257, eraseCount=8, trials=1000, detections=0, silentFaults=0\n",
      "N=384, eraseCount=8, trials=1000, detections=0, silentFaults=0\n",
      "N=1024, eraseCount=8, trials=1000, detections=0, silentFaults=0\n",
      "N=4096, eraseCount=8, trials=1000, detections=0, silentFaults=0\n",
      "N=16384, eraseCount=8, trials=1000, detections=0, silentFaults=0\n"
     ]
    }
   ],
   "source": [
    "rsc8 = RSCodec(8)  # 8 ecc symbols, RS(N+8,N)\n",
    "\n",
    "for N in [120, 248, 249, 256, 257, 384, 1024, 4096, 16384]:\n",
    "    detections = 0\n",
    "    silentFaults = 0\n",
    "    eraseCount = 8\n",
    "    last = N + eraseCount\n",
    "    y = bytearray(N+eraseCount)\n",
    "\n",
    "    for i in range(0,N) :\n",
    "        y[i] = random.randint(0,255)\n",
    "\n",
    "    for trials in range (0,1000):\n",
    "        # keep permuting the data to ensure we see impact from both the data and the errors\n",
    "        x = y[0:N]\n",
    "        y = rsc8.encode(x)\n",
    "\n",
    "        positions = random.sample(population=range(last), k=eraseCount)\n",
    "\n",
    "        for posn in positions:\n",
    "            y[posn] ^= random.randint(1,255)\n",
    "\n",
    "            try:\n",
    "                z = rsc8.decode(y, erase_pos=positions)\n",
    "                if (z[0] != x):\n",
    "                    silentFaults += 1\n",
    "            except:\n",
    "                detections = detections + 1\n",
    "\n",
    "    print(f\"N={N}, eraseCount={eraseCount}, trials={trials+1}, detections={detections}, silentFaults={silentFaults}\")\n"
   ]
  }
 ],
 "metadata": {
  "kernelspec": {
   "display_name": "Python 3",
   "language": "python",
   "name": "python3"
  },
  "language_info": {
   "codemirror_mode": {
    "name": "ipython",
    "version": 3
   },
   "file_extension": ".py",
   "mimetype": "text/x-python",
   "name": "python",
   "nbconvert_exporter": "python",
   "pygments_lexer": "ipython3",
   "version": "3.13.2"
  }
 },
 "nbformat": 4,
 "nbformat_minor": 5
}
