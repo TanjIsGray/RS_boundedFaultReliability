{
 "cells": [
  {
   "cell_type": "code",
   "execution_count": 1,
   "id": "aaa3aa9a-9544-484d-b651-17336eb5dbfb",
   "metadata": {},
   "outputs": [],
   "source": [
    "# An investigation of Reed Solomon reliability for the bounded-fault scenario\n",
    "# Tanj Bennett, copyright (c) 2023, Avant-Gray LLC\n",
    "# Usage rights granted under terms of the MIT open-source license.\n",
    "\n",
    "# using the very nice work of Tomer Fileba, whose work remains separate\n",
    "# at https://github.com/tomerfiliba-org/reedsolomon/blob/master/src/reedsolo/reedsolo.py\n",
    "\n",
    "# uncomment the following line once to install that library\n",
    "# pip install --upgrade reedsolo"
   ]
  },
  {
   "cell_type": "code",
   "execution_count": 2,
   "id": "c544962c-4bfc-4df1-9bf4-48e683dce884",
   "metadata": {},
   "outputs": [
    {
     "data": {
      "text/plain": [
       "<reedsolo.RSCodec at 0x227f83a9d60>"
      ]
     },
     "execution_count": 2,
     "metadata": {},
     "output_type": "execute_result"
    }
   ],
   "source": [
    "# import and verify the import succeeded.\n",
    "\n",
    "from reedsolo import RSCodec, ReedSolomonError\n",
    "rsc = RSCodec(4)  # 4 ecc symbols.\n",
    "rsc"
   ]
  },
  {
   "cell_type": "code",
   "execution_count": 3,
   "id": "32928358-2016-451b-8b72-a7794ede1dc9",
   "metadata": {},
   "outputs": [
    {
     "data": {
      "text/plain": [
       "141"
      ]
     },
     "execution_count": 3,
     "metadata": {},
     "output_type": "execute_result"
    }
   ],
   "source": [
    "# import and flex random number generation.  Nothing fancy is needed\n",
    "\n",
    "import random\n",
    "r = random.randint(0,255)\n",
    "r"
   ]
  },
  {
   "cell_type": "code",
   "execution_count": 4,
   "id": "014a7203-18b3-45b8-b705-1c01cc651dbc",
   "metadata": {},
   "outputs": [
    {
     "data": {
      "text/plain": [
       "(32,\n",
       " bytearray(b'\\x01\\x02\\x03\\x04\\x05\\x06\\x07\\x08\\t\\n\\x0b\\x0c\\r\\x0e\\x0f\\x10\\x11\\x12\\x13\\x14\\x15\\x16\\x17\\x18\\x19\\x1a\\x1b\\x1c\\x1d\\x1e\\x1f '),\n",
       " 36,\n",
       " bytearray(b'\\x01\\x02\\x03\\x04\\x05\\x06\\x07\\x08\\t\\n\\x0b\\x0c\\r\\x0e\\x0f\\x10\\x11\\x12\\x13\\x14\\x15\\x16\\x17\\x18\\x19\\x1a\\x1b\\x1c\\x1d\\x1e\\x1f \\xdd\\xfa\\xc1\\xc6'))"
      ]
     },
     "execution_count": 4,
     "metadata": {},
     "output_type": "execute_result"
    }
   ],
   "source": [
    "# Encoding\n",
    "# just a list of numbers/symbols:\n",
    "x = bytearray([1,2,3,4,5,6,7,8, 9,10,11,12,13,14,15,16, 17,18,19,20,21,22,23,24, 25,26,27,28,29,30,31,32])\n",
    "y = rsc.encode(x)\n",
    "\n",
    "# used with 32 data bytes and 4 check symbols, this supports 256 bit data using RS(36,32)\n",
    "len(x), x, len(y), y"
   ]
  },
  {
   "cell_type": "code",
   "execution_count": 5,
   "id": "c57861f5",
   "metadata": {},
   "outputs": [
    {
     "data": {
      "text/plain": [
       "(bytearray(b'\\x01\\x02\\x03\\x04\\x05\\x06\\x07\\x08\\t\\n\\x0b\\x0c\\r\\x0e\\x0f\\x10\\x11\\x12\\x13\\x14\\x15\\x16\\x17\\x18\\x19\\x1a\\x1b\\x1c\\x1d\\x1e\\x1f '),\n",
       " bytearray(b'\\x01\\x02\\x03\\x04\\x05\\x06\\x07\\x08\\t\\n\\x0b\\x0c\\r\\x0e\\x0f\\x10\\x11\\x12\\x13\\x14\\x15\\x16\\x17\\x18\\x19\\x1a\\x1b\\x1c\\x1d\\x1e\\x1f '),\n",
       " True)"
      ]
     },
     "execution_count": 5,
     "metadata": {},
     "output_type": "execute_result"
    }
   ],
   "source": [
    "z = rsc.decode(y)\n",
    "x, z[0], x == z[0]"
   ]
  },
  {
   "cell_type": "code",
   "execution_count": 6,
   "id": "7525904c-30ad-4aa6-852a-afb86cdd3d97",
   "metadata": {},
   "outputs": [
    {
     "data": {
      "text/plain": [
       "(9999, 0, 0)"
      ]
     },
     "execution_count": 6,
     "metadata": {},
     "output_type": "execute_result"
    }
   ],
   "source": [
    "# if we try to correct a bounded error (just 2 symbols)  RS(36,32) should fix them all.\n",
    "#   We count the attempts which raised no exception.\n",
    "\n",
    "detections = 0\n",
    "illusions = 0\n",
    "lastBound = 17\n",
    "\n",
    "for trials in range (0,10000):\n",
    "    # keep permuting the data to ensure we see impact from both the data and the errors\n",
    "    x = y[0:32]\n",
    "    y = rsc.encode(x)\n",
    "\n",
    "    i = 2 * random.randint(0,lastBound)\n",
    "    y[i] ^= random.randint(1,255)\n",
    "    y[i+1] ^= random.randint(1,255)\n",
    "\n",
    "    try:\n",
    "        z = rsc.decode(y)\n",
    "        if (z[0] != x):\n",
    "            illusions += 1\n",
    "    except:\n",
    "        detections = detections + 1\n",
    "        \n",
    "trials, detections, illusions"
   ]
  },
  {
   "cell_type": "code",
   "execution_count": 7,
   "id": "c33b6605-5753-4b6b-92b8-69433957697c",
   "metadata": {},
   "outputs": [
    {
     "data": {
      "text/plain": [
       "0.0"
      ]
     },
     "execution_count": 7,
     "metadata": {},
     "output_type": "execute_result"
    }
   ],
   "source": [
    "# The ratio of failures should be zero\n",
    "\n",
    "shouldCorrectButFailed = (detections + illusions) / (trials + 1)\n",
    "shouldCorrectButFailed\n"
   ]
  },
  {
   "cell_type": "code",
   "execution_count": 8,
   "id": "d52a7c8d-8686-48a6-a384-f4a82fe8f98d",
   "metadata": {},
   "outputs": [
    {
     "data": {
      "text/plain": [
       "(9999, 9907, 93)"
      ]
     },
     "execution_count": 8,
     "metadata": {},
     "output_type": "execute_result"
    }
   ],
   "source": [
    "# if we try to correct a bounded error (just 2 symbols) but overwhelm it with a whole-chip error, how good is RS(36,32) at\n",
    "#   reporting the uncorrectables?  We count the attempts which raised no exception.\n",
    "\n",
    "detections = 0\n",
    "illusions = 0\n",
    "lastChip = 8\n",
    "\n",
    "for trials in range (0,10000):\n",
    "    # keep permuting the data to ensure we see impact from both the data and the errors\n",
    "    x = y[0:32]\n",
    "    y = rsc.encode(x)\n",
    "\n",
    "    i = 4 *random.randint(0,lastChip)\n",
    "    y[i] ^= random.randint(1,255)\n",
    "    y[i+1] ^= random.randint(1,255)\n",
    "    y[i+2] ^= random.randint(1,255)\n",
    "    y[i+3] ^= random.randint(1,255)\n",
    "\n",
    "    try:\n",
    "        z = rsc.decode(y)\n",
    "        if (z[0] != x):\n",
    "            illusions += 1\n",
    "    except:\n",
    "        detections = detections + 1\n",
    "        \n",
    "trials, detections, illusions"
   ]
  },
  {
   "cell_type": "code",
   "execution_count": 9,
   "id": "275446d8-fa1c-455b-8d34-303d61ef9ba2",
   "metadata": {},
   "outputs": [
    {
     "data": {
      "text/plain": [
       "0.9907"
      ]
     },
     "execution_count": 9,
     "metadata": {},
     "output_type": "execute_result"
    }
   ],
   "source": [
    "# The ratio of detection vs. deception attempts shows the quality of defense\n",
    "\n",
    "probity = detections / (trials + 1)\n",
    "\n",
    "# what is observed is nearly 99%: the RS(36,32) code will allow around 1% of whole-chip errors to pass undetected.\n",
    "# the test actually stresses multichip errors too, \n",
    "\n",
    "probity\n"
   ]
  },
  {
   "cell_type": "code",
   "execution_count": 10,
   "id": "e4134baa-c453-4614-ab25-b64b4fabcf9b",
   "metadata": {},
   "outputs": [
    {
     "data": {
      "text/plain": [
       "(9999, 9918, 82)"
      ]
     },
     "execution_count": 10,
     "metadata": {},
     "output_type": "execute_result"
    }
   ],
   "source": [
    "# how good is RS(36,32) at detecting multichip uncorrectables?  These might be generated by RowHammer\n",
    "# We count the attempts which raised no exception.\n",
    "\n",
    "detections = 0\n",
    "illusions = 0\n",
    "last = 35\n",
    "\n",
    "for trials in range (0,10000):\n",
    "    # keep permuting the data to ensure we see impact from both the data and the errors\n",
    "    x = y[0:32]\n",
    "    y = rsc.encode(x)\n",
    "\n",
    "    i = random.randint(0,last)\n",
    "    j = random.randint(0,last)\n",
    "    while i == j:\n",
    "        j = random.randint(0,last)\n",
    "    k = random.randint(0,last)\n",
    "    while (i == k) or (j == k):\n",
    "        k = random.randint(0,last)\n",
    "    m = random.randint(0,last)\n",
    "    while (i == m) or (j == m) or (k == m):\n",
    "        m = random.randint(0,last)\n",
    "    n = random.randint(0,last)\n",
    "    while (i == n) or (j == n) or (k == n) or (m == n):\n",
    "        n = random.randint(0,last)\n",
    "\n",
    "# comment out some of these to compare 3, 4, or 5 errors.  The ratio barely changes.\n",
    "    y[i] ^= random.randint(1,255)\n",
    "    y[j] ^= random.randint(1,255)\n",
    "    y[k] ^= random.randint(1,255)\n",
    "    y[m] ^= random.randint(1,255)\n",
    "    y[n] ^= random.randint(1,255)\n",
    "\n",
    "    try:\n",
    "        z = rsc.decode(y)\n",
    "        if (z[0] != x):\n",
    "            illusions += 1\n",
    "    except:\n",
    "        detections = detections + 1\n",
    "        \n",
    "trials, detections, illusions"
   ]
  },
  {
   "cell_type": "code",
   "execution_count": 11,
   "id": "c86b1416-1a5b-41a2-aa78-61bf5b556372",
   "metadata": {},
   "outputs": [
    {
     "data": {
      "text/plain": [
       "0.9918"
      ]
     },
     "execution_count": 11,
     "metadata": {},
     "output_type": "execute_result"
    }
   ],
   "source": [
    "# The ratio of detection vs. deception attempts shows the quality of defense\n",
    "\n",
    "probity = detections / (trials + 1)\n",
    "\n",
    "# what is observed is about 99%: the RS(36,32) code will allow about 1% of multichip errors to pass silently.\n",
    "\n",
    "probity"
   ]
  },
  {
   "cell_type": "code",
   "execution_count": 12,
   "id": "5f12ef52-b107-4064-83de-6b44f8dd6121",
   "metadata": {},
   "outputs": [
    {
     "data": {
      "text/plain": [
       "(999, 9000, 1000, 8000, 0)"
      ]
     },
     "execution_count": 12,
     "metadata": {},
     "output_type": "execute_result"
    }
   ],
   "source": [
    "# this last run models using R-S with erasures specifying each chip in turn, to see if it will reject wrong chips.\n",
    "# this would give hope of using the 9-chip position information to correct some full-chip errors with just 4 check symbols.\n",
    "# we were not expecting it to work: it does not.\n",
    "\n",
    "corrections = 0\n",
    "illusions = 0\n",
    "detections = 0\n",
    "positions = 0\n",
    "lastChip = 8\n",
    "for trials in range (0,1000):\n",
    "    # keep permuting the data to ensure we see impact from both the data and the errors\n",
    "    x = y[0:32]\n",
    "    y = rsc.encode(x)\n",
    "\n",
    "    i = 4 * random.randint(0,lastChip)\n",
    "\n",
    "    y[i]   ^= random.randint(1,255)\n",
    "    y[i+1] ^= random.randint(1,255)\n",
    "    y[i+2] ^= random.randint(1,255)\n",
    "    y[i+3] ^= random.randint(1,255)\n",
    "\n",
    "    for j in range (0,9):\n",
    "        jj = j * 4\n",
    "        positions += 1\n",
    "        try:\n",
    "            z = rsc.decode(y, erase_pos = [jj, jj+1, jj+2, jj+3])\n",
    "            if(z[0] == x):\n",
    "                corrections += 1\n",
    "            else:\n",
    "                illusions += 1\n",
    "#                print(y)\n",
    "        except:\n",
    "            detections = detections + 1\n",
    "\n",
    "trials, positions, corrections, illusions, detections\n"
   ]
  },
  {
   "cell_type": "code",
   "execution_count": 13,
   "id": "195f7dd0-5c4b-4aaf-8cae-d1dc8e485e28",
   "metadata": {},
   "outputs": [
    {
     "data": {
      "text/plain": [
       "1.0"
      ]
     },
     "execution_count": 13,
     "metadata": {},
     "output_type": "execute_result"
    }
   ],
   "source": [
    "# we would need a ratio of 0.99 or better for this method to make sense\n",
    "\n",
    "guidedBounds = corrections / (trials + 1)\n",
    "\n",
    "# the R-S algorithm will hallucinate values if you specify the wrong erasure positions.\n",
    "#    but it will be perfect if you have the correct erasures\n",
    "\n",
    "guidedBounds"
   ]
  },
  {
   "cell_type": "code",
   "execution_count": 14,
   "id": "10059006-b1db-4412-96c8-09c533a140c0",
   "metadata": {},
   "outputs": [
    {
     "data": {
      "text/plain": [
       "(9999, 10000, 0)"
      ]
     },
     "execution_count": 14,
     "metadata": {},
     "output_type": "execute_result"
    }
   ],
   "source": [
    "rsc8 = RSCodec(8)  # 8 ecc symbols.\n",
    "\n",
    "# how good is RS(40,32) at detecting multichip uncorrectables?  These might be generated by RowHammer\n",
    "# We count the attempts which raised no exception.\n",
    "\n",
    "detections = 0\n",
    "illusions = 0\n",
    "last = 39\n",
    "\n",
    "for trials in range (0,10000):\n",
    "    # keep permuting the data to ensure we see impact from both the data and the errors\n",
    "    x = y[0:32]\n",
    "    y = rsc8.encode(x)\n",
    "\n",
    "    i = random.randint(0,last)\n",
    "    j = random.randint(0,last)\n",
    "    while i == j:\n",
    "        j = random.randint(0,last)\n",
    "    k = random.randint(0,last)\n",
    "    while (i == k) or (j == k):\n",
    "        k = random.randint(0,last)\n",
    "    m = random.randint(0,last)\n",
    "    while (i == m) or (j == m) or (k == m):\n",
    "        m = random.randint(0,last)\n",
    "    n = random.randint(0,last)\n",
    "    while (i == n) or (j == n) or (k == n) or (m == n):\n",
    "        n = random.randint(0,last)\n",
    "    p = random.randint(0,last)\n",
    "    while (i == p) or (j == p) or (k == p) or (m == p) or (n == p):\n",
    "        p = random.randint(0,last)\n",
    "    q = random.randint(0,last)\n",
    "    while (i == q) or (j == q) or (k == q) or (m == q) or (n == q) or (p == q):\n",
    "        q = random.randint(0,last)\n",
    "\n",
    "# comment out some of these to compare 5, 6, or 7 errors.  They are all perfectly detected.\n",
    "# all 4-location errors are corrected.\n",
    "\n",
    "    y[i] ^= random.randint(1,255)\n",
    "    y[j] ^= random.randint(1,255)\n",
    "    y[k] ^= random.randint(1,255)\n",
    "    y[m] ^= random.randint(1,255)\n",
    "    y[n] ^= random.randint(1,255)\n",
    "    y[p] ^= random.randint(1,255)\n",
    "    y[q] ^= random.randint(1,255)\n",
    "\n",
    "    try:\n",
    "        z = rsc8.decode(y)\n",
    "        if (z[0] != x):\n",
    "            illusions += 1\n",
    "    except:\n",
    "        detections = detections + 1\n",
    "        \n",
    "trials, detections, illusions"
   ]
  },
  {
   "cell_type": "code",
   "execution_count": 15,
   "id": "3c892148-ed13-438b-b860-324ef5b3e7b9",
   "metadata": {},
   "outputs": [
    {
     "data": {
      "text/plain": [
       "1.0"
      ]
     },
     "execution_count": 15,
     "metadata": {},
     "output_type": "execute_result"
    }
   ],
   "source": [
    "# The ratio of detection vs. deception attempts shows the quality of defense\n",
    "\n",
    "probity = detections / (trials + 1)\n",
    "\n",
    "# what is observed is essentially perfect: the RS(40,32) code will detect all uncorrectable errors\n",
    "\n",
    "probity"
   ]
  },
  {
   "cell_type": "code",
   "execution_count": null,
   "id": "e31d9390-815d-4a2c-9e29-a87ea04ce28f",
   "metadata": {},
   "outputs": [],
   "source": []
  }
 ],
 "metadata": {
  "kernelspec": {
   "display_name": "Python 3 (ipykernel)",
   "language": "python",
   "name": "python3"
  },
  "language_info": {
   "codemirror_mode": {
    "name": "ipython",
    "version": 3
   },
   "file_extension": ".py",
   "mimetype": "text/x-python",
   "name": "python",
   "nbconvert_exporter": "python",
   "pygments_lexer": "ipython3",
   "version": "3.12.0"
  }
 },
 "nbformat": 4,
 "nbformat_minor": 5
}
